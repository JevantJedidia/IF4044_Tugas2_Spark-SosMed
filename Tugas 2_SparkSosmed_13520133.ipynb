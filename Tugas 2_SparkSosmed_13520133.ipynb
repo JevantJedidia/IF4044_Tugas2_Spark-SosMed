{
 "cells": [
  {
   "cell_type": "markdown",
   "metadata": {},
   "source": [
    "# 13520133 - Jevant"
   ]
  },
  {
   "cell_type": "code",
   "execution_count": 19,
   "metadata": {},
   "outputs": [],
   "source": [
    "import time as t\n",
    "import datetime\n",
    "\n",
    "def parseTime(type, time):\n",
    "    if type == \"twitter\":\n",
    "        ts = t.strftime('%Y-%m-%d %H:%M:%S', t.strptime(time,'%a %b %d %H:%M:%S +0000 %Y'))\n",
    "        return ts[:10]\n",
    "    elif type == \"instagram\" or type == \"other\":\n",
    "        time = str(datetime.datetime.fromtimestamp(int(time)).date())\n",
    "        return time[:10]\n",
    "    else:\n",
    "        return time[:10]"
   ]
  },
  {
   "cell_type": "markdown",
   "metadata": {},
   "source": [
    "## Facebook"
   ]
  },
  {
   "cell_type": "code",
   "execution_count": 20,
   "metadata": {},
   "outputs": [
    {
     "data": {
      "text/plain": [
       "[(('facebook', '2022-01-01'), 125),\n",
       " (('facebook', '2021-12-24'), 26),\n",
       " (('facebook', '2021-12-20'), 27),\n",
       " (('facebook', '2021-12-14'), 148),\n",
       " (('facebook', '2021-12-11'), 25),\n",
       " (('facebook', '2021-12-10'), 28),\n",
       " (('facebook', '2021-12-08'), 209),\n",
       " (('facebook', '2021-12-07'), 79),\n",
       " (('facebook', '2021-12-05'), 32),\n",
       " (('facebook', '2021-12-04'), 34),\n",
       " (('facebook', '2021-12-03'), 158),\n",
       " (('facebook', '2021-11-29'), 76),\n",
       " (('facebook', '2021-11-25'), 27),\n",
       " (('facebook', '2021-11-17'), 153),\n",
       " (('facebook', '2021-11-16'), 51),\n",
       " (('facebook', '2021-11-05'), 76),\n",
       " (('facebook', '2021-11-04'), 78),\n",
       " (('facebook', '2021-11-01'), 286),\n",
       " (('facebook', '2021-10-31'), 105),\n",
       " (('facebook', '2021-10-30'), 132)]"
      ]
     },
     "execution_count": 20,
     "metadata": {},
     "output_type": "execute_result"
    }
   ],
   "source": [
    "fb = spark.read.json(\"hdfs://127.0.0.1:9000/json/facebook*.json\").rdd\n",
    "fbPost = fb.map(lambda x: ((\"facebook\", parseTime(\"facebook\", x['created_time'])),1))\n",
    "\n",
    "fbKomen = fb.flatMap(lambda x: x['comments']['data'])\n",
    "fbKomen = fbKomen.map(lambda x: ((\"facebook\", parseTime(\"facebook\", x['created_time'])),1))\n",
    "\n",
    "fbMap = fbPost.union(fbKomen)\n",
    "fbRed = fbMap.reduceByKey(lambda x,y: x+y)\n",
    "fbRed.take(20)"
   ]
  },
  {
   "cell_type": "markdown",
   "metadata": {},
   "source": [
    "## Twitter"
   ]
  },
  {
   "cell_type": "code",
   "execution_count": 21,
   "metadata": {},
   "outputs": [
    {
     "data": {
      "text/plain": [
       "[(('twitter', '2021-05-01'), 58),\n",
       " (('twitter', '2021-05-05'), 40),\n",
       " (('twitter', '2021-04-30'), 42),\n",
       " (('twitter', '2021-04-28'), 39),\n",
       " (('twitter', '2018-10-15'), 14),\n",
       " (('twitter', '2019-03-25'), 10),\n",
       " (('twitter', '2019-10-22'), 8),\n",
       " (('twitter', '2021-03-02'), 18),\n",
       " (('twitter', '2020-10-10'), 21),\n",
       " (('twitter', '2016-09-22'), 35),\n",
       " (('twitter', '2015-08-21'), 9),\n",
       " (('twitter', '2021-03-25'), 7),\n",
       " (('twitter', '2018-01-15'), 2),\n",
       " (('twitter', '2021-12-25'), 39),\n",
       " (('twitter', '2021-05-26'), 7),\n",
       " (('twitter', '2019-11-10'), 1),\n",
       " (('twitter', '2015-02-05'), 15),\n",
       " (('twitter', '2017-11-10'), 11),\n",
       " (('twitter', '2016-05-06'), 14),\n",
       " (('twitter', '2021-11-07'), 15)]"
      ]
     },
     "execution_count": 21,
     "metadata": {},
     "output_type": "execute_result"
    }
   ],
   "source": [
    "twt = spark.read.json(\"hdfs://127.0.0.1:9000/json/twitter*.json\").rdd\n",
    "twtMap = twt.map(lambda x: ((\"twitter\", parseTime(\"twitter\", x['created_at'])),1))\n",
    "twtRed = twtMap.reduceByKey(lambda x,y: x+y)\n",
    "twtRed.take(20)"
   ]
  },
  {
   "cell_type": "markdown",
   "metadata": {},
   "source": [
    "## YouTube"
   ]
  },
  {
   "cell_type": "code",
   "execution_count": 22,
   "metadata": {},
   "outputs": [
    {
     "data": {
      "text/plain": [
       "[(('youtube', '2021-10-11'), 41),\n",
       " (('youtube', '2021-04-14'), 68),\n",
       " (('youtube', '2021-05-23'), 16),\n",
       " (('youtube', '2021-04-16'), 22),\n",
       " (('youtube', '2021-04-17'), 16),\n",
       " (('youtube', '2021-05-28'), 12),\n",
       " (('youtube', '2021-04-22'), 98),\n",
       " (('youtube', '2021-07-19'), 15),\n",
       " (('youtube', '2021-04-19'), 5),\n",
       " (('youtube', '2021-07-22'), 10),\n",
       " (('youtube', '2021-06-27'), 10),\n",
       " (('youtube', '2021-06-23'), 12),\n",
       " (('youtube', '2021-06-01'), 12),\n",
       " (('youtube', '2021-04-23'), 62),\n",
       " (('youtube', '2021-07-08'), 6),\n",
       " (('youtube', '2021-06-05'), 7),\n",
       " (('youtube', '2021-04-27'), 38),\n",
       " (('youtube', '2022-01-17'), 3),\n",
       " (('youtube', '2022-02-10'), 2),\n",
       " (('youtube', '2022-01-24'), 8)]"
      ]
     },
     "execution_count": 22,
     "metadata": {},
     "output_type": "execute_result"
    }
   ],
   "source": [
    "yt = spark.read.json(\"hdfs://127.0.0.1:9000/json/youtube*.json\").rdd\n",
    "\n",
    "ytTopLevel = yt.filter(lambda x: x['snippet']['topLevelComment'] is not None)\n",
    "ytTopLevel = ytTopLevel.map(lambda x: ((\"youtube\", parseTime(\"youtube\", x['snippet']['topLevelComment']['snippet']['publishedAt'])),1))\n",
    "\n",
    "ytReplies = yt.filter(lambda x: x['snippet']['publishedAt'] is not None)\n",
    "ytReplies = ytReplies.map(lambda x: ((\"youtube\", parseTime(\"youtube\", x['snippet']['publishedAt'])),1))\n",
    "\n",
    "ytMap = ytReplies.union(ytTopLevel)\n",
    "ytRed = ytMap.reduceByKey(lambda x,y: x+y)\n",
    "ytRed.take(20)"
   ]
  },
  {
   "cell_type": "markdown",
   "metadata": {},
   "source": [
    "## Instagram"
   ]
  },
  {
   "cell_type": "code",
   "execution_count": 23,
   "metadata": {},
   "outputs": [
    {
     "data": {
      "text/plain": [
       "[(('instagram', '2022-01-12'), 439),\n",
       " (('instagram', '2022-01-26'), 1235),\n",
       " (('instagram', '2022-01-19'), 1357),\n",
       " (('instagram', '2022-01-04'), 446),\n",
       " (('instagram', '2021-11-20'), 150),\n",
       " (('instagram', '2021-11-12'), 148),\n",
       " (('instagram', '2021-11-09'), 65),\n",
       " (('instagram', '2021-11-03'), 96),\n",
       " (('instagram', '2021-10-26'), 44),\n",
       " (('instagram', '2021-10-19'), 65),\n",
       " (('instagram', '2021-10-07'), 38),\n",
       " (('instagram', '2021-08-05'), 6),\n",
       " (('instagram', '2021-07-16'), 110),\n",
       " (('instagram', '2021-06-24'), 13),\n",
       " (('instagram', '2021-07-13'), 10),\n",
       " (('instagram', '2021-04-11'), 9),\n",
       " (('instagram', '2021-02-24'), 21),\n",
       " (('instagram', '2021-02-18'), 17),\n",
       " (('instagram', '2021-07-30'), 14),\n",
       " (('instagram', '2021-08-20'), 4)]"
      ]
     },
     "execution_count": 23,
     "metadata": {},
     "output_type": "execute_result"
    }
   ],
   "source": [
    "ig = spark.read.json(\"hdfs://127.0.0.1:9000/json/instagram*.json\").rdd\n",
    "igMap = ig.map(lambda x: ((\"instagram\", parseTime(\"instagram\", x['created_time'])),1))\n",
    "igRed = igMap.reduceByKey(lambda x,y: x+y)\n",
    "igRed.take(20)"
   ]
  },
  {
   "cell_type": "markdown",
   "metadata": {},
   "source": [
    "## Others"
   ]
  },
  {
   "cell_type": "code",
   "execution_count": 24,
   "metadata": {},
   "outputs": [
    {
     "data": {
      "text/plain": [
       "[(('myxl', '2022-02-06'), 56),\n",
       " (('myxl', '2022-02-09'), 71),\n",
       " (('myxl', '2022-02-08'), 83),\n",
       " (('myxl', '2022-02-05'), 31),\n",
       " (('gridoto', '2021-12-28'), 1),\n",
       " (('gridoto', '2021-12-09'), 2),\n",
       " (('gridoto', '2021-12-06'), 1),\n",
       " (('gridoto', '2021-12-02'), 2),\n",
       " (('gridoto', '2021-12-01'), 1),\n",
       " (('gridoto', '2021-11-30'), 1),\n",
       " (('gridoto', '2021-11-21'), 2),\n",
       " (('gridoto', '2021-11-20'), 3),\n",
       " (('gridoto', '2021-11-18'), 1),\n",
       " (('gridoto', '2021-11-13'), 1),\n",
       " (('gridoto', '2021-11-12'), 6),\n",
       " (('gridoto', '2021-11-11'), 3),\n",
       " (('gridoto', '2021-11-08'), 10),\n",
       " (('gridoto', '2021-11-07'), 3),\n",
       " (('gridoto', '2021-11-06'), 2),\n",
       " (('gridoto', '2021-10-16'), 1),\n",
       " (('gridoto', '2021-10-12'), 1),\n",
       " (('gridoto', '2021-10-10'), 1),\n",
       " (('gridoto', '2021-10-06'), 3),\n",
       " (('gridoto', '2021-09-16'), 2),\n",
       " (('gridoto', '2021-09-10'), 2),\n",
       " (('gridoto', '2021-09-07'), 2),\n",
       " (('byu.id', '2022-02-15'), 74),\n",
       " (('byu.id', '2022-02-14'), 66),\n",
       " (('byu.id', '2022-02-11'), 268),\n",
       " (('byu.id', '2022-02-10'), 84),\n",
       " (('byu.id', '2022-02-07'), 107),\n",
       " (('byu.id', '2022-02-04'), 60),\n",
       " (('byu.id', '2022-02-12'), 199),\n",
       " (('byu.id', '2022-02-13'), 48),\n",
       " (('anaktester_go', '2022-02-11'), 88),\n",
       " (('anaktester_go', '2022-02-10'), 157),\n",
       " (('anaktester_go', '2022-02-07'), 58),\n",
       " (('anaktester_go', '2022-02-01'), 6),\n",
       " (('anaktester_go', '2022-01-28'), 2),\n",
       " (('anaktester_go', '2022-01-27'), 8),\n",
       " (('anaktester_go', '2022-01-17'), 8),\n",
       " (('anaktester_go', '2022-01-16'), 7),\n",
       " (('anaktester_go', '2022-01-15'), 16),\n",
       " (('anaktester_go', '2022-01-14'), 11),\n",
       " (('anaktester_go', '2022-01-13'), 14),\n",
       " (('anaktester_go', '2022-01-09'), 13),\n",
       " (('anaktester_go', '2022-01-07'), 13),\n",
       " (('anaktester_go', '2022-01-06'), 40),\n",
       " (('anaktester_go', '2022-01-03'), 8),\n",
       " (('anaktester_go', '2022-01-01'), 13),\n",
       " (('anaktester_go', '2021-12-30'), 21),\n",
       " (('anaktester_go', '2022-02-12'), 17),\n",
       " (('anaktester_go', '2022-02-13'), 24),\n",
       " (('anaktester_go', '2022-02-14'), 14),\n",
       " (('anaktester_go', '2022-02-04'), 2),\n",
       " (('anaktester_go', '2022-01-23'), 7),\n",
       " (('anaktester_go', '2022-01-24'), 8),\n",
       " (('anaktester_go', '2022-02-02'), 1),\n",
       " (('anaktester_go', '2022-01-10'), 12),\n",
       " (('anaktester_go', '2022-01-02'), 8),\n",
       " (('anaktester_go', '2022-01-05'), 6),\n",
       " (('telkomsel', '2022-02-15'), 101),\n",
       " (('telkomsel', '2022-02-14'), 192),\n",
       " (('telkomsel', '2022-02-13'), 238),\n",
       " (('telkomsel', '2022-02-12'), 296),\n",
       " (('telkomsel', '2022-02-11'), 395),\n",
       " (('telkomsel', '2022-02-10'), 238),\n",
       " (('telkomsel', '2022-02-07'), 257),\n",
       " (('myxl', '2022-02-07'), 56),\n",
       " (('myxl', '2022-02-04'), 21),\n",
       " (('myxl', '2022-02-14'), 38),\n",
       " (('myxl', '2022-02-15'), 33),\n",
       " (('myxl', '2022-02-13'), 94),\n",
       " (('myxl', '2022-02-12'), 60),\n",
       " (('myxl', '2022-02-11'), 66),\n",
       " (('myxl', '2022-02-10'), 50),\n",
       " (('gridoto', '2022-01-01'), 1),\n",
       " (('gridoto', '2021-12-14'), 1),\n",
       " (('gridoto', '2021-11-15'), 1),\n",
       " (('gridoto', '2021-11-04'), 1),\n",
       " (('gridoto', '2021-11-01'), 1),\n",
       " (('gridoto', '2021-10-15'), 1),\n",
       " (('gridoto', '2021-10-13'), 2),\n",
       " (('gridoto', '2021-10-11'), 1),\n",
       " (('gridoto', '2021-09-22'), 1),\n",
       " (('gridoto', '2021-09-18'), 1),\n",
       " (('gridoto', '2021-09-15'), 1),\n",
       " (('gridoto', '2021-09-14'), 2),\n",
       " (('gridoto', '2021-09-12'), 1),\n",
       " (('gridoto', '2021-09-08'), 1),\n",
       " (('byu.id', '2022-02-09'), 55),\n",
       " (('byu.id', '2022-02-03'), 24),\n",
       " (('byu.id', '2022-02-08'), 53),\n",
       " (('byu.id', '2022-02-06'), 34),\n",
       " (('byu.id', '2022-02-05'), 34),\n",
       " (('anaktester_go', '2022-02-09'), 5),\n",
       " (('anaktester_go', '2022-02-06'), 38),\n",
       " (('anaktester_go', '2022-02-03'), 4),\n",
       " (('anaktester_go', '2022-01-30'), 9),\n",
       " (('anaktester_go', '2022-01-25'), 11),\n",
       " (('anaktester_go', '2022-01-22'), 24),\n",
       " (('anaktester_go', '2022-01-21'), 16),\n",
       " (('anaktester_go', '2022-01-20'), 12),\n",
       " (('anaktester_go', '2022-01-08'), 17),\n",
       " (('anaktester_go', '2022-01-04'), 4),\n",
       " (('anaktester_go', '2021-12-31'), 7),\n",
       " (('anaktester_go', '2021-12-28'), 1),\n",
       " (('anaktester_go', '2022-02-08'), 8),\n",
       " (('anaktester_go', '2022-01-31'), 4),\n",
       " (('anaktester_go', '2022-01-26'), 7),\n",
       " (('anaktester_go', '2022-01-29'), 1),\n",
       " (('anaktester_go', '2022-01-19'), 15),\n",
       " (('anaktester_go', '2022-01-18'), 7),\n",
       " (('anaktester_go', '2022-02-05'), 3),\n",
       " (('anaktester_go', '2022-01-11'), 6),\n",
       " (('anaktester_go', '2022-01-12'), 9),\n",
       " (('anaktester_go', '2021-12-27'), 2),\n",
       " (('telkomsel', '2022-02-09'), 292),\n",
       " (('telkomsel', '2022-02-08'), 291),\n",
       " (('telkomsel', '2022-02-06'), 83)]"
      ]
     },
     "execution_count": 24,
     "metadata": {},
     "output_type": "execute_result"
    }
   ],
   "source": [
    "# Telkomsel\n",
    "tel = spark.read.option(\"multiline\",\"true\").json(\"hdfs://127.0.0.1:9000/json/telkomsel.json.json\").rdd\n",
    "tel = tel.flatMap(lambda x: x['GraphImages'])\n",
    "\n",
    "telPost = tel.map(lambda x : ((\"telkomsel\", parseTime(\"other\", x['taken_at_timestamp'])),1))\n",
    "\n",
    "telKomen = tel.flatMap(lambda x: x['comments']['data'])\n",
    "telKomen = telKomen.map(lambda x: ((\"telkomsel\", parseTime(\"other\", x['created_at'])),1))\n",
    "\n",
    "telMap = telPost.union(telKomen)\n",
    "telRed = telMap.reduceByKey(lambda x,y: x+y)\n",
    "telRed.take(10)\n",
    "\n",
    "# Anak Tester\n",
    "anak = spark.read.option(\"multiline\",\"true\").json(\"hdfs://127.0.0.1:9000/json/anaktester_go.json.json\").rdd\n",
    "anak = anak.flatMap(lambda x: x['GraphImages'])\n",
    "\n",
    "anakPost = anak.filter (lambda x: x['taken_at_timestamp'] is not None)\n",
    "anakPost = anakPost.map(lambda x : ((\"anaktester_go\", parseTime(\"other\", x['taken_at_timestamp'])),1))\n",
    "\n",
    "anakKomen = anak.flatMap(lambda x: x['comments']['data'])\n",
    "anakKomen = anakKomen.map(lambda x: ((\"anaktester_go\", parseTime(\"other\", x['created_at'])),1))\n",
    "\n",
    "anakMap = anakPost.union(anakKomen)\n",
    "anakRed = anakMap.reduceByKey(lambda x,y: x+y)\n",
    "anakRed.take(10)\n",
    "\n",
    "#byu.id\n",
    "byu = spark.read.option(\"multiline\",\"true\").json(\"hdfs://127.0.0.1:9000/json/byu.id.json.json\").rdd\n",
    "byu = byu.flatMap(lambda x: x['GraphImages'])\n",
    "\n",
    "byuPost = byu.filter (lambda x: x['taken_at_timestamp'] is not None)\n",
    "byuPost = byuPost.map(lambda x : ((\"byu.id\", parseTime(\"other\", x['taken_at_timestamp'])),1))\n",
    "\n",
    "byuKomen = byu.flatMap(lambda x: x['comments']['data'])\n",
    "byuKomen = byuKomen.map(lambda x: ((\"byu.id\", parseTime(\"other\", x['created_at'])),1))\n",
    "\n",
    "byuMap = byuPost.union(byuKomen)\n",
    "byuRed = byuMap.reduceByKey(lambda x,y: x+y)\n",
    "byuRed.take(10)\n",
    "\n",
    "# gridoto news\n",
    "grid = spark.read.option(\"multiline\",\"true\").json(\"hdfs://127.0.0.1:9000/json/gridoto_news.json.json\").rdd\n",
    "grid = grid.flatMap(lambda x: x['GraphImages'])\n",
    "\n",
    "gridPost = grid.filter (lambda x: x['taken_at_timestamp'] is not None)\n",
    "gridPost = gridPost.map(lambda x : ((\"gridoto\", parseTime(\"other\", x['taken_at_timestamp'])),1))\n",
    "\n",
    "gridKomen = grid.flatMap(lambda x: x['comments']['data'])\n",
    "gridKomen = gridKomen.map(lambda x: ((\"gridoto\", parseTime(\"other\", x['created_at'])),1))\n",
    "\n",
    "gridMap = gridPost.union(gridKomen)\n",
    "gridRed = gridMap.reduceByKey(lambda x,y: x+y)\n",
    "gridRed.take(10)\n",
    "\n",
    "# xl\n",
    "xl = spark.read.option(\"multiline\",\"true\").json(\"hdfs://127.0.0.1:9000/json/myxl.json.json\").rdd\n",
    "xl = xl.flatMap(lambda x: x['GraphImages'])\n",
    "\n",
    "xlPost = xl.filter (lambda x: x['taken_at_timestamp'] is not None)\n",
    "xlPost = xlPost.map(lambda x : ((\"myxl\", parseTime(\"other\", x['taken_at_timestamp'])),1))\n",
    "\n",
    "xlKomen = xl.flatMap(lambda x: x['comments']['data'])\n",
    "xlKomen = xlKomen.map(lambda x: ((\"myxl\", parseTime(\"other\", x['created_at'])),1))\n",
    "\n",
    "xlMap = xlPost.union(xlKomen)\n",
    "xlRed = xlMap.reduceByKey(lambda x,y: x+y)\n",
    "xlRed.take(10)\n",
    "\n",
    "otherRed = xlRed.union(gridRed.union(byuRed.union(anakRed.union(telRed))))\n",
    "otherRed.collect()"
   ]
  },
  {
   "cell_type": "code",
   "execution_count": 25,
   "metadata": {},
   "outputs": [
    {
     "name": "stdout",
     "output_type": "stream",
     "text": [
      "+------------+----------+-----+\n",
      "|social_media|      date|count|\n",
      "+------------+----------+-----+\n",
      "|    facebook|2022-01-01|  125|\n",
      "|    facebook|2021-12-24|   26|\n",
      "|    facebook|2021-12-20|   27|\n",
      "|    facebook|2021-12-14|  148|\n",
      "|    facebook|2021-12-11|   25|\n",
      "|    facebook|2021-12-10|   28|\n",
      "|    facebook|2021-12-08|  209|\n",
      "|    facebook|2021-12-07|   79|\n",
      "|    facebook|2021-12-05|   32|\n",
      "|    facebook|2021-12-04|   34|\n",
      "|    facebook|2021-12-03|  158|\n",
      "|    facebook|2021-11-29|   76|\n",
      "|    facebook|2021-11-25|   27|\n",
      "|    facebook|2021-11-17|  153|\n",
      "|    facebook|2021-11-16|   51|\n",
      "|    facebook|2021-11-05|   76|\n",
      "|    facebook|2021-11-04|   78|\n",
      "|    facebook|2021-11-01|  286|\n",
      "|    facebook|2021-10-31|  105|\n",
      "|    facebook|2021-10-30|  132|\n",
      "+------------+----------+-----+\n",
      "only showing top 20 rows\n",
      "\n"
     ]
    }
   ],
   "source": [
    "res = fbRed.union(igRed.union(twtRed.union(ytRed)))\n",
    "res = res.union(otherRed)\n",
    "res = res.map(lambda x: (x[0][0],x[0][1],x[1]))\n",
    "df = res.toDF(['social_media', 'date', 'count'])\n",
    "df.show()"
   ]
  },
  {
   "cell_type": "code",
   "execution_count": 26,
   "metadata": {},
   "outputs": [],
   "source": [
    "df.coalesce(1).write.mode('overwrite').option('header','true').csv('hdfs://127.0.0.1:9000/output/output.csv')"
   ]
  },
  {
   "cell_type": "code",
   "execution_count": null,
   "metadata": {},
   "outputs": [],
   "source": []
  }
 ],
 "metadata": {
  "kernelspec": {
   "display_name": "Python 3",
   "language": "python",
   "name": "python3"
  },
  "language_info": {
   "codemirror_mode": {
    "name": "ipython",
    "version": 3
   },
   "file_extension": ".py",
   "mimetype": "text/x-python",
   "name": "python",
   "nbconvert_exporter": "python",
   "pygments_lexer": "ipython3",
   "version": "3.7.4"
  }
 },
 "nbformat": 4,
 "nbformat_minor": 2
}
